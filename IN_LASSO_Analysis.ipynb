{
 "cells": [
  {
   "cell_type": "markdown",
   "metadata": {},
   "source": [
    "# Intrinsic Neuromodulation (IN) LASSO Analysis"
   ]
  },
  {
   "cell_type": "markdown",
   "metadata": {},
   "source": [
    "### LASSO | Import Python Libraries"
   ]
  },
  {
   "cell_type": "code",
   "execution_count": 204,
   "metadata": {},
   "outputs": [],
   "source": [
    "import pandas as pd\n",
    "import numpy as np\n",
    "import matplotlib.pyplot as plt\n",
    "from scipy import stats\n",
    "from scipy.stats import zscore\n",
    "from sklearn import linear_model"
   ]
  },
  {
   "cell_type": "markdown",
   "metadata": {},
   "source": [
    "### LASSO | Load IN and Cog-Behav Data - INCA, CTM"
   ]
  },
  {
   "cell_type": "code",
   "execution_count": 205,
   "metadata": {
    "scrolled": true
   },
   "outputs": [],
   "source": [
    "df=pd.DataFrame.from_csv('INCA_data.csv')\n",
    "\n",
    "# Z-score cols\n",
    "zcolumns=['Age', 'Sex', 'Race','Nonaccept','Goals','Impulse',\\\n",
    "          'Awareness','Strategies','Clarity ']\n",
    "\n",
    "for column in zcolumns:\n",
    "    df[column]=zscore(df[column])\n",
    "    \n",
    "# Drop subj w/ extremely high IN val- Y/N ?\n",
    "# df=df.drop('IN 011')\n",
    "\n",
    "# A_m=df.iloc[:,1]\n",
    "# V_m=df.iloc[:,0]"
   ]
  },
  {
   "cell_type": "markdown",
   "metadata": {},
   "source": [
    "### LASSO | Compute and Visualize Results"
   ]
  },
  {
   "cell_type": "code",
   "execution_count": null,
   "metadata": {
    "scrolled": true
   },
   "outputs": [],
   "source": [
    "IN = linear_model.Lasso(alpha=1, fit_intercept=False)\n",
    "\n",
    "IN.fit(df, range(1,37))\n",
    "# IN.fit(df, df['V_m'])\n",
    "# IN.fit(df, df['A_m'])\n",
    "\n",
    "print('parameters: \\n\\n %s \\n\\n' % IN)\n",
    "print('coef: \\n\\n %s \\n\\n' % IN.coef_)\n",
    "print('sparse coef: \\n\\n %s \\n\\n' % IN.sparse_coef_)\n",
    "print('intercept: %s' % IN.intercept_)\n",
    "\n",
    "plt.figure(figsize=(5,3), dpi=175)\n",
    "plt.plot(np.squeeze(IN.coef_))\n",
    "plt.legend(['Estimated','True'])\n",
    "# plt.title(label)\n",
    "plt.show()"
   ]
  },
  {
   "cell_type": "code",
   "execution_count": null,
   "metadata": {},
   "outputs": [],
   "source": []
  },
  {
   "cell_type": "code",
   "execution_count": null,
   "metadata": {},
   "outputs": [],
   "source": []
  }
 ],
 "metadata": {
  "kernelspec": {
   "display_name": "Python 2",
   "language": "python",
   "name": "python2"
  },
  "language_info": {
   "codemirror_mode": {
    "name": "ipython",
    "version": 2
   },
   "file_extension": ".py",
   "mimetype": "text/x-python",
   "name": "python",
   "nbconvert_exporter": "python",
   "pygments_lexer": "ipython2",
   "version": "2.7.13"
  }
 },
 "nbformat": 4,
 "nbformat_minor": 2
}
