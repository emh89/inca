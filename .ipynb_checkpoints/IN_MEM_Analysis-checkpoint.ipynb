{
 "cells": [
  {
   "cell_type": "markdown",
   "metadata": {},
   "source": [
    "### Import Python libraries"
   ]
  },
  {
   "cell_type": "code",
   "execution_count": 39,
   "metadata": {},
   "outputs": [],
   "source": [
    "%matplotlib inline \n",
    "import pandas as pd \n",
    "import numpy as np \n",
    "import matplotlib.pyplot as plt \n",
    "from scipy import stats\n",
    "from scipy.stats import zscore\n",
    "from sklearn.preprocessing import scale \n",
    "import statsmodels.api as sm\n",
    "import statsmodels.formula.api as smf"
   ]
  },
  {
   "cell_type": "markdown",
   "metadata": {},
   "source": [
    "### Load and preprocess data"
   ]
  },
  {
   "cell_type": "code",
   "execution_count": 40,
   "metadata": {
    "scrolled": true
   },
   "outputs": [],
   "source": [
    "### Import data ###\n",
    "df=pd.DataFrame.from_csv('INCA_data.csv')\n",
    "\n",
    "### Scale dataset ###\n",
    "for column in df:\n",
    "    df[column]=scale(df[column])\n",
    "\n",
    "# reset index for mem groups\n",
    "df = df.reset_index()\n",
    "\n",
    "### Parse IN values and cog-behavioral variables to test\n",
    "cog_behav_vars = df.iloc[:,8:]\n",
    "V_cov = [df[['V_m']], df[['V_b']], df[['V_b']], df[['V_err']], df[['V_acc']]]\n",
    "A_cov = [df[['A_m']], df[['A_b']], df[['A_b']], df[['A_err']], df[['A_acc']]] "
   ]
  },
  {
   "cell_type": "markdown",
   "metadata": {},
   "source": [
    "### Initialize Linear Mixed Effects Model function"
   ]
  },
  {
   "cell_type": "code",
   "execution_count": 41,
   "metadata": {},
   "outputs": [],
   "source": [
    "def mix_fx_model(dependent_var, fixed_fx_covariates, group):\n",
    "    \n",
    "### endog (1d array-like) – The dependent variable\n",
    "### exog (2d array-like) – A matrix of covariates used to determine \\\n",
    "###      the mean structure (the “fixed effects” covariates)\n",
    "### groups (1d array-like) – A vector of labels determining the groups – \n",
    "###      data from different groups are independent\n",
    "### exog_re (2d array-like) – A matrix of covariates used to determine \\\n",
    "###      the variance and covariance structure (the “random effects” covariates). \n",
    "###      If None, defaults to a random intercept for each group.\n",
    "    \n",
    "    # Define parameters - see above\n",
    "    mem_params = smf.mixedlm(dependent_var, fixed_fx_covariates, groups=group)\n",
    "\n",
    "    # Fit model\n",
    "    mem = mem_params.fit()\n",
    "\n",
    "    # Output stats\n",
    "    display(mem.summary())\n",
    "        \n",
    "    return"
   ]
  },
  {
   "cell_type": "markdown",
   "metadata": {},
   "source": [
    "### Test Linear Mixed Effects Model"
   ]
  },
  {
   "cell_type": "code",
   "execution_count": 42,
   "metadata": {
    "scrolled": true
   },
   "outputs": [
    {
     "name": "stderr",
     "output_type": "stream",
     "text": [
      "/Users/emilyhahn/anaconda2/lib/python2.7/site-packages/statsmodels/regression/mixed_linear_model.py:2039: ConvergenceWarning: The Hessian matrix at the estimated parameter values is not positive definite.\n",
      "  warnings.warn(msg, ConvergenceWarning)\n"
     ]
    },
    {
     "data": {
      "text/html": [
       "<table class=\"simpletable\">\n",
       "<tr>\n",
       "       <td>Model:</td>       <td>MixedLM</td> <td>Dependent Variable:</td>    <td>V_m</td>  \n",
       "</tr>\n",
       "<tr>\n",
       "  <td>No. Observations:</td>   <td>36</td>          <td>Method:</td>         <td>REML</td>  \n",
       "</tr>\n",
       "<tr>\n",
       "     <td>No. Groups:</td>      <td>36</td>          <td>Scale:</td>         <td>0.5102</td> \n",
       "</tr>\n",
       "<tr>\n",
       "  <td>Min. group size:</td>     <td>1</td>        <td>Likelihood:</td>     <td>-52.1701</td>\n",
       "</tr>\n",
       "<tr>\n",
       "  <td>Max. group size:</td>     <td>1</td>        <td>Converged:</td>         <td>Yes</td>  \n",
       "</tr>\n",
       "<tr>\n",
       "  <td>Mean group size:</td>    <td>1.0</td>            <td></td>               <td></td>    \n",
       "</tr>\n",
       "</table>\n",
       "<table class=\"simpletable\">\n",
       "<tr>\n",
       "      <td></td>       <th>Coef.</th> <th>Std.Err.</th>    <th>z</th>   <th>P>|z|</th> <th>[0.025</th> <th>0.975]</th>\n",
       "</tr>\n",
       "<tr>\n",
       "  <th>Intercept</th> <td>-0.000</td>   <td>0.089</td>  <td>-0.000</td> <td>1.000</td> <td>-0.175</td>  <td>0.175</td>\n",
       "</tr>\n",
       "<tr>\n",
       "  <th>A_acc</th>      <td>0.191</td>   <td>0.143</td>   <td>1.335</td> <td>0.182</td> <td>-0.089</td>  <td>0.470</td>\n",
       "</tr>\n",
       "<tr>\n",
       "  <th>groups RE</th>  <td>0.510</td>     <td></td>        <td></td>      <td></td>       <td></td>       <td></td>   \n",
       "</tr>\n",
       "</table>"
      ],
      "text/plain": [
       "<class 'statsmodels.iolib.summary2.Summary'>\n",
       "\"\"\"\n",
       "         Mixed Linear Model Regression Results\n",
       "======================================================\n",
       "Model:            MixedLM Dependent Variable: V_m     \n",
       "No. Observations: 36      Method:             REML    \n",
       "No. Groups:       36      Scale:              0.5102  \n",
       "Min. group size:  1       Likelihood:         -52.1701\n",
       "Max. group size:  1       Converged:          Yes     \n",
       "Mean group size:  1.0                                 \n",
       "------------------------------------------------------\n",
       "            Coef.  Std.Err.   z    P>|z| [0.025 0.975]\n",
       "------------------------------------------------------\n",
       "Intercept   -0.000    0.089 -0.000 1.000 -0.175  0.175\n",
       "A_acc        0.191    0.143  1.335 0.182 -0.089  0.470\n",
       "groups RE    0.510                                    \n",
       "======================================================\n",
       "\n",
       "\"\"\""
      ]
     },
     "metadata": {},
     "output_type": "display_data"
    },
    {
     "name": "stderr",
     "output_type": "stream",
     "text": [
      "/Users/emilyhahn/anaconda2/lib/python2.7/site-packages/statsmodels/regression/mixed_linear_model.py:2039: ConvergenceWarning: The Hessian matrix at the estimated parameter values is not positive definite.\n",
      "  warnings.warn(msg, ConvergenceWarning)\n"
     ]
    },
    {
     "data": {
      "text/html": [
       "<table class=\"simpletable\">\n",
       "<tr>\n",
       "       <td>Model:</td>       <td>MixedLM</td> <td>Dependent Variable:</td>    <td>V_m</td>  \n",
       "</tr>\n",
       "<tr>\n",
       "  <td>No. Observations:</td>   <td>36</td>          <td>Method:</td>         <td>REML</td>  \n",
       "</tr>\n",
       "<tr>\n",
       "     <td>No. Groups:</td>      <td>36</td>          <td>Scale:</td>         <td>0.5261</td> \n",
       "</tr>\n",
       "<tr>\n",
       "  <td>Min. group size:</td>     <td>1</td>        <td>Likelihood:</td>     <td>-52.6932</td>\n",
       "</tr>\n",
       "<tr>\n",
       "  <td>Max. group size:</td>     <td>1</td>        <td>Converged:</td>         <td>Yes</td>  \n",
       "</tr>\n",
       "<tr>\n",
       "  <td>Mean group size:</td>    <td>1.0</td>            <td></td>               <td></td>    \n",
       "</tr>\n",
       "</table>\n",
       "<table class=\"simpletable\">\n",
       "<tr>\n",
       "      <td></td>       <th>Coef.</th> <th>Std.Err.</th>    <th>z</th>   <th>P>|z|</th> <th>[0.025</th> <th>0.975]</th>\n",
       "</tr>\n",
       "<tr>\n",
       "  <th>Intercept</th>  <td>0.000</td>   <td>0.032</td>   <td>0.000</td> <td>1.000</td> <td>-0.063</td>  <td>0.063</td>\n",
       "</tr>\n",
       "<tr>\n",
       "  <th>Age</th>       <td>-0.079</td>   <td>0.168</td>  <td>-0.469</td> <td>0.639</td> <td>-0.408</td>  <td>0.250</td>\n",
       "</tr>\n",
       "<tr>\n",
       "  <th>groups RE</th>  <td>0.526</td>     <td></td>        <td></td>      <td></td>       <td></td>       <td></td>   \n",
       "</tr>\n",
       "</table>"
      ],
      "text/plain": [
       "<class 'statsmodels.iolib.summary2.Summary'>\n",
       "\"\"\"\n",
       "         Mixed Linear Model Regression Results\n",
       "======================================================\n",
       "Model:            MixedLM Dependent Variable: V_m     \n",
       "No. Observations: 36      Method:             REML    \n",
       "No. Groups:       36      Scale:              0.5261  \n",
       "Min. group size:  1       Likelihood:         -52.6932\n",
       "Max. group size:  1       Converged:          Yes     \n",
       "Mean group size:  1.0                                 \n",
       "------------------------------------------------------\n",
       "            Coef.  Std.Err.   z    P>|z| [0.025 0.975]\n",
       "------------------------------------------------------\n",
       "Intercept    0.000    0.032  0.000 1.000 -0.063  0.063\n",
       "Age         -0.079    0.168 -0.469 0.639 -0.408  0.250\n",
       "groups RE    0.526                                    \n",
       "======================================================\n",
       "\n",
       "\"\"\""
      ]
     },
     "metadata": {},
     "output_type": "display_data"
    },
    {
     "name": "stderr",
     "output_type": "stream",
     "text": [
      "/Users/emilyhahn/anaconda2/lib/python2.7/site-packages/statsmodels/regression/mixed_linear_model.py:2039: ConvergenceWarning: The Hessian matrix at the estimated parameter values is not positive definite.\n",
      "  warnings.warn(msg, ConvergenceWarning)\n"
     ]
    },
    {
     "data": {
      "text/html": [
       "<table class=\"simpletable\">\n",
       "<tr>\n",
       "       <td>Model:</td>       <td>MixedLM</td> <td>Dependent Variable:</td>    <td>V_m</td>  \n",
       "</tr>\n",
       "<tr>\n",
       "  <td>No. Observations:</td>   <td>36</td>          <td>Method:</td>         <td>REML</td>  \n",
       "</tr>\n",
       "<tr>\n",
       "     <td>No. Groups:</td>      <td>36</td>          <td>Scale:</td>         <td>0.5285</td> \n",
       "</tr>\n",
       "<tr>\n",
       "  <td>Min. group size:</td>     <td>1</td>        <td>Likelihood:</td>     <td>-52.7694</td>\n",
       "</tr>\n",
       "<tr>\n",
       "  <td>Max. group size:</td>     <td>1</td>        <td>Converged:</td>         <td>Yes</td>  \n",
       "</tr>\n",
       "<tr>\n",
       "  <td>Mean group size:</td>    <td>1.0</td>            <td></td>               <td></td>    \n",
       "</tr>\n",
       "</table>\n",
       "<table class=\"simpletable\">\n",
       "<tr>\n",
       "      <td></td>      <th>Coef.</th> <th>Std.Err.</th>   <th>z</th>   <th>P>|z|</th> <th>[0.025</th> <th>0.975]</th>\n",
       "</tr>\n",
       "<tr>\n",
       "  <th>Intercept</th> <td>0.000</td>   <td>0.077</td>  <td>0.000</td> <td>1.000</td> <td>-0.150</td>  <td>0.150</td>\n",
       "</tr>\n",
       "<tr>\n",
       "  <th>Sex</th>       <td>0.042</td>   <td>0.153</td>  <td>0.273</td> <td>0.785</td> <td>-0.259</td>  <td>0.342</td>\n",
       "</tr>\n",
       "<tr>\n",
       "  <th>groups RE</th> <td>0.528</td>     <td></td>       <td></td>      <td></td>       <td></td>       <td></td>   \n",
       "</tr>\n",
       "</table>"
      ],
      "text/plain": [
       "<class 'statsmodels.iolib.summary2.Summary'>\n",
       "\"\"\"\n",
       "         Mixed Linear Model Regression Results\n",
       "======================================================\n",
       "Model:            MixedLM Dependent Variable: V_m     \n",
       "No. Observations: 36      Method:             REML    \n",
       "No. Groups:       36      Scale:              0.5285  \n",
       "Min. group size:  1       Likelihood:         -52.7694\n",
       "Max. group size:  1       Converged:          Yes     \n",
       "Mean group size:  1.0                                 \n",
       "------------------------------------------------------\n",
       "              Coef. Std.Err.   z   P>|z| [0.025 0.975]\n",
       "------------------------------------------------------\n",
       "Intercept     0.000    0.077 0.000 1.000 -0.150  0.150\n",
       "Sex           0.042    0.153 0.273 0.785 -0.259  0.342\n",
       "groups RE     0.528                                   \n",
       "======================================================\n",
       "\n",
       "\"\"\""
      ]
     },
     "metadata": {},
     "output_type": "display_data"
    },
    {
     "name": "stderr",
     "output_type": "stream",
     "text": [
      "/Users/emilyhahn/anaconda2/lib/python2.7/site-packages/statsmodels/regression/mixed_linear_model.py:2039: ConvergenceWarning: The Hessian matrix at the estimated parameter values is not positive definite.\n",
      "  warnings.warn(msg, ConvergenceWarning)\n"
     ]
    },
    {
     "data": {
      "text/html": [
       "<table class=\"simpletable\">\n",
       "<tr>\n",
       "       <td>Model:</td>       <td>MixedLM</td> <td>Dependent Variable:</td>    <td>V_m</td>  \n",
       "</tr>\n",
       "<tr>\n",
       "  <td>No. Observations:</td>   <td>36</td>          <td>Method:</td>         <td>REML</td>  \n",
       "</tr>\n",
       "<tr>\n",
       "     <td>No. Groups:</td>      <td>36</td>          <td>Scale:</td>         <td>0.5263</td> \n",
       "</tr>\n",
       "<tr>\n",
       "  <td>Min. group size:</td>     <td>1</td>        <td>Likelihood:</td>     <td>-52.6992</td>\n",
       "</tr>\n",
       "<tr>\n",
       "  <td>Max. group size:</td>     <td>1</td>        <td>Converged:</td>         <td>Yes</td>  \n",
       "</tr>\n",
       "<tr>\n",
       "  <td>Mean group size:</td>    <td>1.0</td>            <td></td>               <td></td>    \n",
       "</tr>\n",
       "</table>\n",
       "<table class=\"simpletable\">\n",
       "<tr>\n",
       "      <td></td>      <th>Coef.</th> <th>Std.Err.</th>   <th>z</th>   <th>P>|z|</th> <th>[0.025</th> <th>0.975]</th>\n",
       "</tr>\n",
       "<tr>\n",
       "  <th>Intercept</th> <td>0.000</td>   <td>0.170</td>  <td>0.000</td> <td>1.000</td> <td>-0.333</td>  <td>0.333</td>\n",
       "</tr>\n",
       "<tr>\n",
       "  <th>Race</th>      <td>0.077</td>   <td>0.021</td>  <td>3.572</td> <td>0.000</td>  <td>0.035</td>  <td>0.119</td>\n",
       "</tr>\n",
       "<tr>\n",
       "  <th>groups RE</th> <td>0.526</td>     <td></td>       <td></td>      <td></td>       <td></td>       <td></td>   \n",
       "</tr>\n",
       "</table>"
      ],
      "text/plain": [
       "<class 'statsmodels.iolib.summary2.Summary'>\n",
       "\"\"\"\n",
       "         Mixed Linear Model Regression Results\n",
       "======================================================\n",
       "Model:            MixedLM Dependent Variable: V_m     \n",
       "No. Observations: 36      Method:             REML    \n",
       "No. Groups:       36      Scale:              0.5263  \n",
       "Min. group size:  1       Likelihood:         -52.6992\n",
       "Max. group size:  1       Converged:          Yes     \n",
       "Mean group size:  1.0                                 \n",
       "------------------------------------------------------\n",
       "              Coef. Std.Err.   z   P>|z| [0.025 0.975]\n",
       "------------------------------------------------------\n",
       "Intercept     0.000    0.170 0.000 1.000 -0.333  0.333\n",
       "Race          0.077    0.021 3.572 0.000  0.035  0.119\n",
       "groups RE     0.526                                   \n",
       "======================================================\n",
       "\n",
       "\"\"\""
      ]
     },
     "metadata": {},
     "output_type": "display_data"
    },
    {
     "name": "stderr",
     "output_type": "stream",
     "text": [
      "/Users/emilyhahn/anaconda2/lib/python2.7/site-packages/statsmodels/regression/mixed_linear_model.py:2039: ConvergenceWarning: The Hessian matrix at the estimated parameter values is not positive definite.\n",
      "  warnings.warn(msg, ConvergenceWarning)\n"
     ]
    },
    {
     "data": {
      "text/html": [
       "<table class=\"simpletable\">\n",
       "<tr>\n",
       "       <td>Model:</td>       <td>MixedLM</td> <td>Dependent Variable:</td>    <td>V_m</td>  \n",
       "</tr>\n",
       "<tr>\n",
       "  <td>No. Observations:</td>   <td>36</td>          <td>Method:</td>         <td>REML</td>  \n",
       "</tr>\n",
       "<tr>\n",
       "     <td>No. Groups:</td>      <td>36</td>          <td>Scale:</td>         <td>0.5022</td> \n",
       "</tr>\n",
       "<tr>\n",
       "  <td>Min. group size:</td>     <td>1</td>        <td>Likelihood:</td>     <td>-51.9020</td>\n",
       "</tr>\n",
       "<tr>\n",
       "  <td>Max. group size:</td>     <td>1</td>        <td>Converged:</td>         <td>Yes</td>  \n",
       "</tr>\n",
       "<tr>\n",
       "  <td>Mean group size:</td>    <td>1.0</td>            <td></td>               <td></td>    \n",
       "</tr>\n",
       "</table>\n",
       "<table class=\"simpletable\">\n",
       "<tr>\n",
       "      <td></td>       <th>Coef.</th> <th>Std.Err.</th>    <th>z</th>   <th>P>|z|</th> <th>[0.025</th> <th>0.975]</th>\n",
       "</tr>\n",
       "<tr>\n",
       "  <th>Intercept</th>  <td>0.000</td>   <td>0.159</td>   <td>0.000</td> <td>1.000</td> <td>-0.312</td>  <td>0.312</td>\n",
       "</tr>\n",
       "<tr>\n",
       "  <th>Nonaccept</th> <td>-0.227</td>   <td>0.051</td>  <td>-4.462</td> <td>0.000</td> <td>-0.326</td> <td>-0.127</td>\n",
       "</tr>\n",
       "<tr>\n",
       "  <th>groups RE</th>  <td>0.502</td>     <td></td>        <td></td>      <td></td>       <td></td>       <td></td>   \n",
       "</tr>\n",
       "</table>"
      ],
      "text/plain": [
       "<class 'statsmodels.iolib.summary2.Summary'>\n",
       "\"\"\"\n",
       "         Mixed Linear Model Regression Results\n",
       "======================================================\n",
       "Model:            MixedLM Dependent Variable: V_m     \n",
       "No. Observations: 36      Method:             REML    \n",
       "No. Groups:       36      Scale:              0.5022  \n",
       "Min. group size:  1       Likelihood:         -51.9020\n",
       "Max. group size:  1       Converged:          Yes     \n",
       "Mean group size:  1.0                                 \n",
       "------------------------------------------------------\n",
       "            Coef.  Std.Err.   z    P>|z| [0.025 0.975]\n",
       "------------------------------------------------------\n",
       "Intercept    0.000    0.159  0.000 1.000 -0.312  0.312\n",
       "Nonaccept   -0.227    0.051 -4.462 0.000 -0.326 -0.127\n",
       "groups RE    0.502                                    \n",
       "======================================================\n",
       "\n",
       "\"\"\""
      ]
     },
     "metadata": {},
     "output_type": "display_data"
    },
    {
     "name": "stderr",
     "output_type": "stream",
     "text": [
      "/Users/emilyhahn/anaconda2/lib/python2.7/site-packages/statsmodels/regression/mixed_linear_model.py:2039: ConvergenceWarning: The Hessian matrix at the estimated parameter values is not positive definite.\n",
      "  warnings.warn(msg, ConvergenceWarning)\n"
     ]
    },
    {
     "data": {
      "text/html": [
       "<table class=\"simpletable\">\n",
       "<tr>\n",
       "       <td>Model:</td>       <td>MixedLM</td> <td>Dependent Variable:</td>    <td>V_m</td>  \n",
       "</tr>\n",
       "<tr>\n",
       "  <td>No. Observations:</td>   <td>36</td>          <td>Method:</td>         <td>REML</td>  \n",
       "</tr>\n",
       "<tr>\n",
       "     <td>No. Groups:</td>      <td>36</td>          <td>Scale:</td>         <td>0.5088</td> \n",
       "</tr>\n",
       "<tr>\n",
       "  <td>Min. group size:</td>     <td>1</td>        <td>Likelihood:</td>     <td>-52.1234</td>\n",
       "</tr>\n",
       "<tr>\n",
       "  <td>Max. group size:</td>     <td>1</td>        <td>Converged:</td>         <td>Yes</td>  \n",
       "</tr>\n",
       "<tr>\n",
       "  <td>Mean group size:</td>    <td>1.0</td>            <td></td>               <td></td>    \n",
       "</tr>\n",
       "</table>\n",
       "<table class=\"simpletable\">\n",
       "<tr>\n",
       "      <td></td>      <th>Coef.</th> <th>Std.Err.</th>   <th>z</th>   <th>P>|z|</th> <th>[0.025</th> <th>0.975]</th>\n",
       "</tr>\n",
       "<tr>\n",
       "  <th>Intercept</th> <td>0.000</td>   <td>0.054</td>  <td>0.000</td> <td>1.000</td> <td>-0.106</td>  <td>0.106</td>\n",
       "</tr>\n",
       "<tr>\n",
       "  <th>Goals</th>     <td>0.197</td>   <td>0.159</td>  <td>1.240</td> <td>0.215</td> <td>-0.115</td>  <td>0.509</td>\n",
       "</tr>\n",
       "<tr>\n",
       "  <th>groups RE</th> <td>0.509</td>     <td></td>       <td></td>      <td></td>       <td></td>       <td></td>   \n",
       "</tr>\n",
       "</table>"
      ],
      "text/plain": [
       "<class 'statsmodels.iolib.summary2.Summary'>\n",
       "\"\"\"\n",
       "         Mixed Linear Model Regression Results\n",
       "======================================================\n",
       "Model:            MixedLM Dependent Variable: V_m     \n",
       "No. Observations: 36      Method:             REML    \n",
       "No. Groups:       36      Scale:              0.5088  \n",
       "Min. group size:  1       Likelihood:         -52.1234\n",
       "Max. group size:  1       Converged:          Yes     \n",
       "Mean group size:  1.0                                 \n",
       "------------------------------------------------------\n",
       "              Coef. Std.Err.   z   P>|z| [0.025 0.975]\n",
       "------------------------------------------------------\n",
       "Intercept     0.000    0.054 0.000 1.000 -0.106  0.106\n",
       "Goals         0.197    0.159 1.240 0.215 -0.115  0.509\n",
       "groups RE     0.509                                   \n",
       "======================================================\n",
       "\n",
       "\"\"\""
      ]
     },
     "metadata": {},
     "output_type": "display_data"
    },
    {
     "name": "stderr",
     "output_type": "stream",
     "text": [
      "/Users/emilyhahn/anaconda2/lib/python2.7/site-packages/statsmodels/regression/mixed_linear_model.py:2039: ConvergenceWarning: The Hessian matrix at the estimated parameter values is not positive definite.\n",
      "  warnings.warn(msg, ConvergenceWarning)\n"
     ]
    },
    {
     "data": {
      "text/html": [
       "<table class=\"simpletable\">\n",
       "<tr>\n",
       "       <td>Model:</td>       <td>MixedLM</td> <td>Dependent Variable:</td>    <td>V_m</td>  \n",
       "</tr>\n",
       "<tr>\n",
       "  <td>No. Observations:</td>   <td>36</td>          <td>Method:</td>         <td>REML</td>  \n",
       "</tr>\n",
       "<tr>\n",
       "     <td>No. Groups:</td>      <td>36</td>          <td>Scale:</td>         <td>0.5287</td> \n",
       "</tr>\n",
       "<tr>\n",
       "  <td>Min. group size:</td>     <td>1</td>        <td>Likelihood:</td>     <td>-52.7768</td>\n",
       "</tr>\n",
       "<tr>\n",
       "  <td>Max. group size:</td>     <td>1</td>        <td>Converged:</td>         <td>Yes</td>  \n",
       "</tr>\n",
       "<tr>\n",
       "  <td>Mean group size:</td>    <td>1.0</td>            <td></td>               <td></td>    \n",
       "</tr>\n",
       "</table>\n",
       "<table class=\"simpletable\">\n",
       "<tr>\n",
       "      <td></td>       <th>Coef.</th> <th>Std.Err.</th>    <th>z</th>   <th>P>|z|</th> <th>[0.025</th> <th>0.975]</th>\n",
       "</tr>\n",
       "<tr>\n",
       "  <th>Intercept</th>  <td>0.000</td>   <td>0.027</td>   <td>0.000</td> <td>1.000</td> <td>-0.054</td>  <td>0.054</td>\n",
       "</tr>\n",
       "<tr>\n",
       "  <th>Impulse</th>   <td>-0.036</td>   <td>0.169</td>  <td>-0.214</td> <td>0.830</td> <td>-0.368</td>  <td>0.295</td>\n",
       "</tr>\n",
       "<tr>\n",
       "  <th>groups RE</th>  <td>0.529</td>     <td></td>        <td></td>      <td></td>       <td></td>       <td></td>   \n",
       "</tr>\n",
       "</table>"
      ],
      "text/plain": [
       "<class 'statsmodels.iolib.summary2.Summary'>\n",
       "\"\"\"\n",
       "         Mixed Linear Model Regression Results\n",
       "======================================================\n",
       "Model:            MixedLM Dependent Variable: V_m     \n",
       "No. Observations: 36      Method:             REML    \n",
       "No. Groups:       36      Scale:              0.5287  \n",
       "Min. group size:  1       Likelihood:         -52.7768\n",
       "Max. group size:  1       Converged:          Yes     \n",
       "Mean group size:  1.0                                 \n",
       "------------------------------------------------------\n",
       "            Coef.  Std.Err.   z    P>|z| [0.025 0.975]\n",
       "------------------------------------------------------\n",
       "Intercept    0.000    0.027  0.000 1.000 -0.054  0.054\n",
       "Impulse     -0.036    0.169 -0.214 0.830 -0.368  0.295\n",
       "groups RE    0.529                                    \n",
       "======================================================\n",
       "\n",
       "\"\"\""
      ]
     },
     "metadata": {},
     "output_type": "display_data"
    },
    {
     "name": "stderr",
     "output_type": "stream",
     "text": [
      "/Users/emilyhahn/anaconda2/lib/python2.7/site-packages/statsmodels/regression/mixed_linear_model.py:2039: ConvergenceWarning: The Hessian matrix at the estimated parameter values is not positive definite.\n",
      "  warnings.warn(msg, ConvergenceWarning)\n"
     ]
    },
    {
     "data": {
      "text/html": [
       "<table class=\"simpletable\">\n",
       "<tr>\n",
       "       <td>Model:</td>       <td>MixedLM</td> <td>Dependent Variable:</td>    <td>V_m</td>  \n",
       "</tr>\n",
       "<tr>\n",
       "  <td>No. Observations:</td>   <td>36</td>          <td>Method:</td>         <td>REML</td>  \n",
       "</tr>\n",
       "<tr>\n",
       "     <td>No. Groups:</td>      <td>36</td>          <td>Scale:</td>         <td>0.5286</td> \n",
       "</tr>\n",
       "<tr>\n",
       "  <td>Min. group size:</td>     <td>1</td>        <td>Likelihood:</td>     <td>-52.7735</td>\n",
       "</tr>\n",
       "<tr>\n",
       "  <td>Max. group size:</td>     <td>1</td>        <td>Converged:</td>         <td>Yes</td>  \n",
       "</tr>\n",
       "<tr>\n",
       "  <td>Mean group size:</td>    <td>1.0</td>            <td></td>               <td></td>    \n",
       "</tr>\n",
       "</table>\n",
       "<table class=\"simpletable\">\n",
       "<tr>\n",
       "      <td></td>      <th>Coef.</th> <th>Std.Err.</th>   <th>z</th>   <th>P>|z|</th> <th>[0.025</th> <th>0.975]</th>\n",
       "</tr>\n",
       "<tr>\n",
       "  <th>Intercept</th> <td>0.000</td>   <td>0.103</td>  <td>0.000</td> <td>1.000</td> <td>-0.202</td>  <td>0.202</td>\n",
       "</tr>\n",
       "<tr>\n",
       "  <th>Awareness</th> <td>0.039</td>   <td>0.137</td>  <td>0.283</td> <td>0.777</td> <td>-0.230</td>  <td>0.307</td>\n",
       "</tr>\n",
       "<tr>\n",
       "  <th>groups RE</th> <td>0.529</td>     <td></td>       <td></td>      <td></td>       <td></td>       <td></td>   \n",
       "</tr>\n",
       "</table>"
      ],
      "text/plain": [
       "<class 'statsmodels.iolib.summary2.Summary'>\n",
       "\"\"\"\n",
       "         Mixed Linear Model Regression Results\n",
       "======================================================\n",
       "Model:            MixedLM Dependent Variable: V_m     \n",
       "No. Observations: 36      Method:             REML    \n",
       "No. Groups:       36      Scale:              0.5286  \n",
       "Min. group size:  1       Likelihood:         -52.7735\n",
       "Max. group size:  1       Converged:          Yes     \n",
       "Mean group size:  1.0                                 \n",
       "------------------------------------------------------\n",
       "              Coef. Std.Err.   z   P>|z| [0.025 0.975]\n",
       "------------------------------------------------------\n",
       "Intercept     0.000    0.103 0.000 1.000 -0.202  0.202\n",
       "Awareness     0.039    0.137 0.283 0.777 -0.230  0.307\n",
       "groups RE     0.529                                   \n",
       "======================================================\n",
       "\n",
       "\"\"\""
      ]
     },
     "metadata": {},
     "output_type": "display_data"
    },
    {
     "name": "stderr",
     "output_type": "stream",
     "text": [
      "/Users/emilyhahn/anaconda2/lib/python2.7/site-packages/statsmodels/regression/mixed_linear_model.py:2039: ConvergenceWarning: The Hessian matrix at the estimated parameter values is not positive definite.\n",
      "  warnings.warn(msg, ConvergenceWarning)\n"
     ]
    },
    {
     "data": {
      "text/html": [
       "<table class=\"simpletable\">\n",
       "<tr>\n",
       "       <td>Model:</td>       <td>MixedLM</td> <td>Dependent Variable:</td>    <td>V_m</td>  \n",
       "</tr>\n",
       "<tr>\n",
       "  <td>No. Observations:</td>   <td>36</td>          <td>Method:</td>         <td>REML</td>  \n",
       "</tr>\n",
       "<tr>\n",
       "     <td>No. Groups:</td>      <td>36</td>          <td>Scale:</td>         <td>0.5294</td> \n",
       "</tr>\n",
       "<tr>\n",
       "  <td>Min. group size:</td>     <td>1</td>        <td>Likelihood:</td>     <td>-52.7988</td>\n",
       "</tr>\n",
       "<tr>\n",
       "  <td>Max. group size:</td>     <td>1</td>        <td>Converged:</td>         <td>Yes</td>  \n",
       "</tr>\n",
       "<tr>\n",
       "  <td>Mean group size:</td>    <td>1.0</td>            <td></td>               <td></td>    \n",
       "</tr>\n",
       "</table>\n",
       "<table class=\"simpletable\">\n",
       "<tr>\n",
       "       <td></td>      <th>Coef.</th> <th>Std.Err.</th>   <th>z</th>   <th>P>|z|</th> <th>[0.025</th> <th>0.975]</th>\n",
       "</tr>\n",
       "<tr>\n",
       "  <th>Intercept</th>  <td>0.000</td>   <td>0.060</td>  <td>0.000</td> <td>1.000</td> <td>-0.119</td>  <td>0.119</td>\n",
       "</tr>\n",
       "<tr>\n",
       "  <th>Strategies</th> <td>0.004</td>   <td>0.160</td>  <td>0.028</td> <td>0.978</td> <td>-0.310</td>  <td>0.319</td>\n",
       "</tr>\n",
       "<tr>\n",
       "  <th>groups RE</th>  <td>0.529</td>     <td></td>       <td></td>      <td></td>       <td></td>       <td></td>   \n",
       "</tr>\n",
       "</table>"
      ],
      "text/plain": [
       "<class 'statsmodels.iolib.summary2.Summary'>\n",
       "\"\"\"\n",
       "         Mixed Linear Model Regression Results\n",
       "======================================================\n",
       "Model:            MixedLM Dependent Variable: V_m     \n",
       "No. Observations: 36      Method:             REML    \n",
       "No. Groups:       36      Scale:              0.5294  \n",
       "Min. group size:  1       Likelihood:         -52.7988\n",
       "Max. group size:  1       Converged:          Yes     \n",
       "Mean group size:  1.0                                 \n",
       "------------------------------------------------------\n",
       "              Coef. Std.Err.   z   P>|z| [0.025 0.975]\n",
       "------------------------------------------------------\n",
       "Intercept     0.000    0.060 0.000 1.000 -0.119  0.119\n",
       "Strategies    0.004    0.160 0.028 0.978 -0.310  0.319\n",
       "groups RE     0.529                                   \n",
       "======================================================\n",
       "\n",
       "\"\"\""
      ]
     },
     "metadata": {},
     "output_type": "display_data"
    },
    {
     "name": "stderr",
     "output_type": "stream",
     "text": [
      "/Users/emilyhahn/anaconda2/lib/python2.7/site-packages/statsmodels/regression/mixed_linear_model.py:2039: ConvergenceWarning: The Hessian matrix at the estimated parameter values is not positive definite.\n",
      "  warnings.warn(msg, ConvergenceWarning)\n"
     ]
    },
    {
     "data": {
      "text/html": [
       "<table class=\"simpletable\">\n",
       "<tr>\n",
       "       <td>Model:</td>       <td>MixedLM</td> <td>Dependent Variable:</td>    <td>V_m</td>  \n",
       "</tr>\n",
       "<tr>\n",
       "  <td>No. Observations:</td>   <td>36</td>          <td>Method:</td>         <td>REML</td>  \n",
       "</tr>\n",
       "<tr>\n",
       "     <td>No. Groups:</td>      <td>36</td>          <td>Scale:</td>         <td>0.5289</td> \n",
       "</tr>\n",
       "<tr>\n",
       "  <td>Min. group size:</td>     <td>1</td>        <td>Likelihood:</td>     <td>-52.7824</td>\n",
       "</tr>\n",
       "<tr>\n",
       "  <td>Max. group size:</td>     <td>1</td>        <td>Converged:</td>         <td>Yes</td>  \n",
       "</tr>\n",
       "<tr>\n",
       "  <td>Mean group size:</td>    <td>1.0</td>            <td></td>               <td></td>    \n",
       "</tr>\n",
       "</table>\n",
       "<table class=\"simpletable\">\n",
       "<tr>\n",
       "      <td></td>       <th>Coef.</th> <th>Std.Err.</th>    <th>z</th>   <th>P>|z|</th> <th>[0.025</th> <th>0.975]</th>\n",
       "</tr>\n",
       "<tr>\n",
       "  <th>Intercept</th>  <td>0.000</td>   <td>0.019</td>   <td>0.000</td> <td>1.000</td> <td>-0.038</td>  <td>0.038</td>\n",
       "</tr>\n",
       "<tr>\n",
       "  <th>Clarity</th>   <td>-0.031</td>   <td>0.170</td>  <td>-0.184</td> <td>0.854</td> <td>-0.365</td>  <td>0.302</td>\n",
       "</tr>\n",
       "<tr>\n",
       "  <th>groups RE</th>  <td>0.529</td>     <td></td>        <td></td>      <td></td>       <td></td>       <td></td>   \n",
       "</tr>\n",
       "</table>"
      ],
      "text/plain": [
       "<class 'statsmodels.iolib.summary2.Summary'>\n",
       "\"\"\"\n",
       "         Mixed Linear Model Regression Results\n",
       "======================================================\n",
       "Model:            MixedLM Dependent Variable: V_m     \n",
       "No. Observations: 36      Method:             REML    \n",
       "No. Groups:       36      Scale:              0.5289  \n",
       "Min. group size:  1       Likelihood:         -52.7824\n",
       "Max. group size:  1       Converged:          Yes     \n",
       "Mean group size:  1.0                                 \n",
       "------------------------------------------------------\n",
       "            Coef.  Std.Err.   z    P>|z| [0.025 0.975]\n",
       "------------------------------------------------------\n",
       "Intercept    0.000    0.019  0.000 1.000 -0.038  0.038\n",
       "Clarity     -0.031    0.170 -0.184 0.854 -0.365  0.302\n",
       "groups RE    0.529                                    \n",
       "======================================================\n",
       "\n",
       "\"\"\""
      ]
     },
     "metadata": {},
     "output_type": "display_data"
    }
   ],
   "source": [
    "for var in cog_behav_vars:\n",
    "    DV = 'V_m ~ %s' % var # NOTE: 1. change single var to all cog-behav vars 2. exclude DERS Awareness \n",
    "    FFC = df\n",
    "    G = df['participant']\n",
    "    mix_fx_model(DV, FFC, G)"
   ]
  },
  {
   "cell_type": "code",
   "execution_count": null,
   "metadata": {},
   "outputs": [],
   "source": []
  }
 ],
 "metadata": {
  "kernelspec": {
   "display_name": "Python 2",
   "language": "python",
   "name": "python2"
  },
  "language_info": {
   "codemirror_mode": {
    "name": "ipython",
    "version": 2
   },
   "file_extension": ".py",
   "mimetype": "text/x-python",
   "name": "python",
   "nbconvert_exporter": "python",
   "pygments_lexer": "ipython2",
   "version": "2.7.13"
  }
 },
 "nbformat": 4,
 "nbformat_minor": 2
}
