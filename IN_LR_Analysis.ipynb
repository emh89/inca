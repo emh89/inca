{
 "cells": [
  {
   "cell_type": "markdown",
   "metadata": {},
   "source": [
    "### Set Py Libraries"
   ]
  },
  {
   "cell_type": "code",
   "execution_count": 1,
   "metadata": {
    "collapsed": true
   },
   "outputs": [],
   "source": [
    "import pandas as pd\n",
    "import numpy as np\n",
    "import conda\n",
    "import matplotlib.pyplot as plt\n",
    "import os\n",
    "import csv\n",
    "from scipy.stats import zscore\n",
    "from scipy import stats\n",
    "import seaborn as sns\n",
    "import copy"
   ]
  },
  {
   "cell_type": "markdown",
   "metadata": {},
   "source": [
    "### Load Intrinsic Neuromodulation and Cog-Behavioral Data"
   ]
  },
  {
   "cell_type": "code",
   "execution_count": null,
   "metadata": {
    "collapsed": true
   },
   "outputs": [],
   "source": [
    "IN_vars=pd.read_csv('IN_vars.csv')\n",
    "CB_vars=pd.read_csv('CB_vars.csv')\n",
    "\n",
    "\n",
    "df=[]\n",
    "df=pd.DataFrame(df)\n",
    "display(df)"
   ]
  },
  {
   "cell_type": "code",
   "execution_count": null,
   "metadata": {
    "collapsed": true
   },
   "outputs": [],
   "source": [
    "# Z-score cognitive-behavioral measures\n",
    "df['']=zscore(df[''])\n",
    "df['']=zscore(df[''])\n",
    "df['']=zscore(df[''])\n",
    "\n",
    "# Z-score intrinsic neuromodulation betas\n",
    "df['']=zscore(df[''])"
   ]
  },
  {
   "cell_type": "markdown",
   "metadata": {},
   "source": [
    "### Compute and Visualize Results"
   ]
  },
  {
   "cell_type": "code",
   "execution_count": null,
   "metadata": {
    "collapsed": true
   },
   "outputs": [],
   "source": [
    "# Compute correlation matrix\n",
    "    \n",
    "def corr_matrix(dataframe):   \n",
    "    corr = dataframe.corr()\n",
    "\n",
    "    # Generate a mask for the upper triangle\n",
    "    mask = np.zeros_like(corr, dtype=np.bool)\n",
    "    mask[np.triu_indices_from(mask)] = True\n",
    "\n",
    "    # Set up the matplotlib figure\n",
    "    f, ax = plt.subplots(figsize=(11, 9))\n",
    "\n",
    "    # Generate a custom diverging colormap\n",
    "    cmap = sns.diverging_palette(220, 10, as_cmap=True)\n",
    "\n",
    "    # Draw the heatmap with the mask and correct aspect ratio\n",
    "    sns.heatmap(corr, mask=mask, cmap=cmap, vmax=.3, center=0,\n",
    "                square=True, linewidths=.5, cbar_kws={\"shrink\": .5})\n",
    "    plt.show()\n",
    "    \n",
    "    return\n",
    "    \n",
    "corr_matrix(df)"
   ]
  },
  {
   "cell_type": "code",
   "execution_count": null,
   "metadata": {
    "collapsed": true
   },
   "outputs": [],
   "source": [
    "###----------###\n",
    "\n",
    "%matplotlib inline\n",
    "\n",
    "cb_vals=[df[''],df[''],df['']]\n",
    "in_vals= [df['']\n",
    "          \n",
    "x1=[]\n",
    "y1=[]\n",
    "\n",
    "def plot_linreg(x1,y1):\n",
    "    for survey in surveys:\n",
    "        x1=survey\n",
    "        for roi in rois:\n",
    "            y1=roi\n",
    "            sns.jointplot(x1, y1, data=df, kind=\"reg\")\n",
    "            plt.show()\n",
    "\n",
    "            slope, intercept, r_value, p_value, std_err = \\\n",
    "                stats.linregress(x1,y1)\n",
    "\n",
    "            print('Slope: %.2f \\nIntercept: %.2f \\nr Value: %.2f \\np Value: %.2f \\nStandard Error: %.2f' \\\n",
    "                  % (slope, intercept, r_value, p_value, std_err))\n",
    "    return\n",
    "\n",
    "plot_linreg(x1,y1)"
   ]
  }
 ],
 "metadata": {
  "kernelspec": {
   "display_name": "Python 2",
   "language": "python",
   "name": "python2"
  },
  "language_info": {
   "codemirror_mode": {
    "name": "ipython",
    "version": 2
   },
   "file_extension": ".py",
   "mimetype": "text/x-python",
   "name": "python",
   "nbconvert_exporter": "python",
   "pygments_lexer": "ipython2",
   "version": "2.7.13"
  }
 },
 "nbformat": 4,
 "nbformat_minor": 2
}
